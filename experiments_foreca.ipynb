{
 "metadata": {
  "language_info": {
   "codemirror_mode": {
    "name": "ipython",
    "version": 3
   },
   "file_extension": ".py",
   "mimetype": "text/x-python",
   "name": "python",
   "nbconvert_exporter": "python",
   "pygments_lexer": "ipython3",
   "version": "3.8.5"
  },
  "orig_nbformat": 4,
  "kernelspec": {
   "name": "python3",
   "display_name": "Python 3.8.5 64-bit ('pytorch_exp': conda)"
  },
  "interpreter": {
   "hash": "9235c19abfdb02350df920e4567a6ced9e081ce018758b226d2df3ec457c3d46"
  }
 },
 "nbformat": 4,
 "nbformat_minor": 2,
 "cells": [
  {
   "cell_type": "code",
   "execution_count": 2,
   "source": [
    "import pandas as pd"
   ],
   "outputs": [],
   "metadata": {}
  },
  {
   "cell_type": "code",
   "execution_count": 3,
   "source": [
    "df_inp = pd.read_csv('nse_sensex.csv')"
   ],
   "outputs": [],
   "metadata": {}
  },
  {
   "cell_type": "code",
   "execution_count": 4,
   "source": [
    "df_inp['DATE'] = pd.to_datetime(df_inp['DATE'])"
   ],
   "outputs": [],
   "metadata": {}
  },
  {
   "cell_type": "code",
   "execution_count": 5,
   "source": [
    "df_inp.head()"
   ],
   "outputs": [
    {
     "output_type": "execute_result",
     "data": {
      "text/plain": [
       "        DATE      SYMBOL SERIES  PREV CLOSE   OPEN    HIGH    LOW   LAST  \\\n",
       "0 2016-01-01  ASIANPAINT     EQ      883.55  882.0  885.60  876.9  879.7   \n",
       "1 2016-01-04  ASIANPAINT     EQ      878.75  876.2  892.45  871.7  880.5   \n",
       "2 2016-01-05  ASIANPAINT     EQ      880.80  881.3  905.00  881.3  901.4   \n",
       "3 2016-01-06  ASIANPAINT     EQ      900.65  904.5  911.90  884.0  885.3   \n",
       "4 2016-01-07  ASIANPAINT     EQ      886.40  883.0  891.55  869.0  871.1   \n",
       "\n",
       "    CLOSE    VWAP   VOLUME      TURNOVER  TRADES  DELIVERABLE VOLUME  \\\n",
       "0  878.75  880.60   294006  2.589019e+13    7988              149531   \n",
       "1  880.80  881.96   709103  6.254040e+13   28981              337383   \n",
       "2  900.65  898.75  1372748  1.233761e+14   52028              533231   \n",
       "3  886.40  897.11  1716479  1.539873e+14   51374             1008881   \n",
       "4  872.35  878.39   990333  8.698976e+13   26249              477288   \n",
       "\n",
       "   %DELIVERBLE  \n",
       "0       0.5086  \n",
       "1       0.4758  \n",
       "2       0.3884  \n",
       "3       0.5878  \n",
       "4       0.4819  "
      ],
      "text/html": [
       "<div>\n",
       "<style scoped>\n",
       "    .dataframe tbody tr th:only-of-type {\n",
       "        vertical-align: middle;\n",
       "    }\n",
       "\n",
       "    .dataframe tbody tr th {\n",
       "        vertical-align: top;\n",
       "    }\n",
       "\n",
       "    .dataframe thead th {\n",
       "        text-align: right;\n",
       "    }\n",
       "</style>\n",
       "<table border=\"1\" class=\"dataframe\">\n",
       "  <thead>\n",
       "    <tr style=\"text-align: right;\">\n",
       "      <th></th>\n",
       "      <th>DATE</th>\n",
       "      <th>SYMBOL</th>\n",
       "      <th>SERIES</th>\n",
       "      <th>PREV CLOSE</th>\n",
       "      <th>OPEN</th>\n",
       "      <th>HIGH</th>\n",
       "      <th>LOW</th>\n",
       "      <th>LAST</th>\n",
       "      <th>CLOSE</th>\n",
       "      <th>VWAP</th>\n",
       "      <th>VOLUME</th>\n",
       "      <th>TURNOVER</th>\n",
       "      <th>TRADES</th>\n",
       "      <th>DELIVERABLE VOLUME</th>\n",
       "      <th>%DELIVERBLE</th>\n",
       "    </tr>\n",
       "  </thead>\n",
       "  <tbody>\n",
       "    <tr>\n",
       "      <th>0</th>\n",
       "      <td>2016-01-01</td>\n",
       "      <td>ASIANPAINT</td>\n",
       "      <td>EQ</td>\n",
       "      <td>883.55</td>\n",
       "      <td>882.0</td>\n",
       "      <td>885.60</td>\n",
       "      <td>876.9</td>\n",
       "      <td>879.7</td>\n",
       "      <td>878.75</td>\n",
       "      <td>880.60</td>\n",
       "      <td>294006</td>\n",
       "      <td>2.589019e+13</td>\n",
       "      <td>7988</td>\n",
       "      <td>149531</td>\n",
       "      <td>0.5086</td>\n",
       "    </tr>\n",
       "    <tr>\n",
       "      <th>1</th>\n",
       "      <td>2016-01-04</td>\n",
       "      <td>ASIANPAINT</td>\n",
       "      <td>EQ</td>\n",
       "      <td>878.75</td>\n",
       "      <td>876.2</td>\n",
       "      <td>892.45</td>\n",
       "      <td>871.7</td>\n",
       "      <td>880.5</td>\n",
       "      <td>880.80</td>\n",
       "      <td>881.96</td>\n",
       "      <td>709103</td>\n",
       "      <td>6.254040e+13</td>\n",
       "      <td>28981</td>\n",
       "      <td>337383</td>\n",
       "      <td>0.4758</td>\n",
       "    </tr>\n",
       "    <tr>\n",
       "      <th>2</th>\n",
       "      <td>2016-01-05</td>\n",
       "      <td>ASIANPAINT</td>\n",
       "      <td>EQ</td>\n",
       "      <td>880.80</td>\n",
       "      <td>881.3</td>\n",
       "      <td>905.00</td>\n",
       "      <td>881.3</td>\n",
       "      <td>901.4</td>\n",
       "      <td>900.65</td>\n",
       "      <td>898.75</td>\n",
       "      <td>1372748</td>\n",
       "      <td>1.233761e+14</td>\n",
       "      <td>52028</td>\n",
       "      <td>533231</td>\n",
       "      <td>0.3884</td>\n",
       "    </tr>\n",
       "    <tr>\n",
       "      <th>3</th>\n",
       "      <td>2016-01-06</td>\n",
       "      <td>ASIANPAINT</td>\n",
       "      <td>EQ</td>\n",
       "      <td>900.65</td>\n",
       "      <td>904.5</td>\n",
       "      <td>911.90</td>\n",
       "      <td>884.0</td>\n",
       "      <td>885.3</td>\n",
       "      <td>886.40</td>\n",
       "      <td>897.11</td>\n",
       "      <td>1716479</td>\n",
       "      <td>1.539873e+14</td>\n",
       "      <td>51374</td>\n",
       "      <td>1008881</td>\n",
       "      <td>0.5878</td>\n",
       "    </tr>\n",
       "    <tr>\n",
       "      <th>4</th>\n",
       "      <td>2016-01-07</td>\n",
       "      <td>ASIANPAINT</td>\n",
       "      <td>EQ</td>\n",
       "      <td>886.40</td>\n",
       "      <td>883.0</td>\n",
       "      <td>891.55</td>\n",
       "      <td>869.0</td>\n",
       "      <td>871.1</td>\n",
       "      <td>872.35</td>\n",
       "      <td>878.39</td>\n",
       "      <td>990333</td>\n",
       "      <td>8.698976e+13</td>\n",
       "      <td>26249</td>\n",
       "      <td>477288</td>\n",
       "      <td>0.4819</td>\n",
       "    </tr>\n",
       "  </tbody>\n",
       "</table>\n",
       "</div>"
      ]
     },
     "metadata": {},
     "execution_count": 5
    }
   ],
   "metadata": {}
  },
  {
   "cell_type": "code",
   "execution_count": 6,
   "source": [
    "df_inp.SYMBOL.nunique()"
   ],
   "outputs": [
    {
     "output_type": "execute_result",
     "data": {
      "text/plain": [
       "30"
      ]
     },
     "metadata": {},
     "execution_count": 6
    }
   ],
   "metadata": {}
  },
  {
   "cell_type": "code",
   "execution_count": 7,
   "source": [
    "df_inp.DATE.agg(['min','max'])"
   ],
   "outputs": [
    {
     "output_type": "execute_result",
     "data": {
      "text/plain": [
       "min   2016-01-01\n",
       "max   2021-06-15\n",
       "Name: DATE, dtype: datetime64[ns]"
      ]
     },
     "metadata": {},
     "execution_count": 7
    }
   ],
   "metadata": {}
  },
  {
   "cell_type": "code",
   "execution_count": 14,
   "source": [
    "## day based features - ordinal data\r\n",
    "df_inp['year']=df_inp['DATE'].dt.year.astype('str') \r\n",
    "df_inp['month']=df_inp['DATE'].dt.month.astype('str') \r\n",
    "df_inp['day']=df_inp['DATE'].dt.day.astype('str')\r\n",
    "\r\n",
    "df_inp['dayofweek_num']=df_inp['DATE'].dt.dayofweek.astype('str')  "
   ],
   "outputs": [],
   "metadata": {}
  },
  {
   "cell_type": "code",
   "execution_count": 9,
   "source": [
    "## create time index for pytorch-forecasting\r\n",
    "df_inp = df_inp.sort_values(by=['SYMBOL','DATE'])\r\n",
    "df_inp['time_idx'] = df_inp.groupby('SYMBOL').transform('cumcount')\r\n",
    "df_inp['time_idx'] = df_inp['time_idx'] + 1"
   ],
   "outputs": [],
   "metadata": {}
  },
  {
   "cell_type": "code",
   "execution_count": 10,
   "source": [
    "## entity embedding for categoricals\r\n",
    "\r\n",
    "## "
   ],
   "outputs": [],
   "metadata": {}
  },
  {
   "cell_type": "code",
   "execution_count": 11,
   "source": [
    "# ## data processing\r\n",
    "# start_date = pd.to_datetime('2016-10-01')\r\n",
    "# end_date = pd.to_datetime('2018-10-01')\r\n",
    "# forecast_steps = 5\r\n",
    "# valid_period = 120 # num days\r\n",
    " \r\n",
    "\r\n",
    "# # level of forecast\r\n",
    "# level_foreca = 'SYMBOL'\r\n",
    "# list_symbols = df_inp[level_foreca].unique().tolist()\r\n",
    "\r\n",
    "# static features = ['SYMBOL','month','day','day_of_week_num']\r\n",
    "# dynamic_features = "
   ],
   "outputs": [],
   "metadata": {}
  },
  {
   "cell_type": "code",
   "execution_count": 12,
   "source": [
    "df_inp['time_idx'].agg(['min','max'])"
   ],
   "outputs": [
    {
     "output_type": "execute_result",
     "data": {
      "text/plain": [
       "min       1\n",
       "max    1349\n",
       "Name: time_idx, dtype: int64"
      ]
     },
     "metadata": {},
     "execution_count": 12
    }
   ],
   "metadata": {}
  },
  {
   "cell_type": "code",
   "execution_count": 16,
   "source": [
    "from pytorch_forecasting import TimeSeriesDataSet\r\n",
    "\r\n",
    "# create the dataset from the pandas dataframe\r\n",
    "dataset = TimeSeriesDataSet(\r\n",
    "    df_inp,\r\n",
    "    group_ids=[\"SYMBOL\"],\r\n",
    "    target=\"CLOSE\",\r\n",
    "    time_idx=\"time_idx\",\r\n",
    "    min_encoder_length=365,\r\n",
    "    max_encoder_length=365,\r\n",
    "    min_prediction_length=5,\r\n",
    "    max_prediction_length=5,\r\n",
    "    min_prediction_idx=1000, ## for test/valid set.. 2020 june\r\n",
    "    static_categoricals=['SYMBOL'],\r\n",
    "    # static_reals=,\r\n",
    "    time_varying_known_categoricals=['month','day','dayofweek_num'],\r\n",
    "    # time_varying_known_reals=,\r\n",
    "    # time_varying_unknown_categoricals=,\r\n",
    "    time_varying_unknown_reals=['VOLUME','HIGH','LOW','CLOSE']\r\n",
    "\r\n",
    ")"
   ],
   "outputs": [],
   "metadata": {}
  },
  {
   "cell_type": "code",
   "execution_count": 17,
   "source": [
    "# convert the dataset to a dataloader\r\n",
    "dataloader = dataset.to_dataloader(batch_size=4)"
   ],
   "outputs": [],
   "metadata": {}
  },
  {
   "cell_type": "code",
   "execution_count": null,
   "source": [],
   "outputs": [],
   "metadata": {}
  },
  {
   "cell_type": "code",
   "execution_count": null,
   "source": [
    "from pytorch_forecasting.models.base_model import BaseModelWithCovariates\r\n",
    "\r\n",
    "print(BaseModelWithCovariates.__doc__)"
   ],
   "outputs": [
    {
     "output_type": "stream",
     "name": "stdout",
     "text": [
      "\n",
      "    Model with additional methods using covariates.\n",
      "\n",
      "    Assumes the following hyperparameters:\n",
      "\n",
      "    Args:\n",
      "        static_categoricals (List[str]): names of static categorical variables\n",
      "        static_reals (List[str]): names of static continuous variables\n",
      "        time_varying_categoricals_encoder (List[str]): names of categorical variables for encoder\n",
      "        time_varying_categoricals_decoder (List[str]): names of categorical variables for decoder\n",
      "        time_varying_reals_encoder (List[str]): names of continuous variables for encoder\n",
      "        time_varying_reals_decoder (List[str]): names of continuous variables for decoder\n",
      "        x_reals (List[str]): order of continuous variables in tensor passed to forward function\n",
      "        x_categoricals (List[str]): order of categorical variables in tensor passed to forward function\n",
      "        embedding_sizes (Dict[str, Tuple[int, int]]): dictionary mapping categorical variables to tuple of integers\n",
      "            where the first integer denotes the number of categorical classes and the second the embedding size\n",
      "        embedding_labels (Dict[str, List[str]]): dictionary mapping (string) indices to list of categorical labels\n",
      "        embedding_paddings (List[str]): names of categorical variables for which label 0 is always mapped to an\n",
      "             embedding vector filled with zeros\n",
      "        categorical_groups (Dict[str, List[str]]): dictionary of categorical variables that are grouped together and\n",
      "            can also take multiple values simultaneously (e.g. holiday during octoberfest). They should be implemented\n",
      "            as bag of embeddings\n",
      "    \n"
     ]
    }
   ],
   "metadata": {}
  },
  {
   "cell_type": "code",
   "execution_count": null,
   "source": [],
   "outputs": [],
   "metadata": {}
  }
 ]
}