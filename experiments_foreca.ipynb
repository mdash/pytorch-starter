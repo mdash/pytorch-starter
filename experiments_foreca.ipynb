{
 "metadata": {
  "language_info": {
   "codemirror_mode": {
    "name": "ipython",
    "version": 3
   },
   "file_extension": ".py",
   "mimetype": "text/x-python",
   "name": "python",
   "nbconvert_exporter": "python",
   "pygments_lexer": "ipython3",
   "version": "3.7.9"
  },
  "orig_nbformat": 4,
  "kernelspec": {
   "name": "python3",
   "display_name": "Python 3.7.9 64-bit ('base': conda)"
  },
  "interpreter": {
   "hash": "5571cc324b2198264d04d3b2c0078f2f711113e092db0856549628906cfff642"
  }
 },
 "nbformat": 4,
 "nbformat_minor": 2,
 "cells": [
  {
   "cell_type": "code",
   "execution_count": 2,
   "metadata": {},
   "outputs": [],
   "source": [
    "import pandas as pd"
   ]
  },
  {
   "cell_type": "code",
   "execution_count": 3,
   "metadata": {},
   "outputs": [],
   "source": [
    "df_inp = pd.read_csv('nse_sensex.csv')"
   ]
  },
  {
   "cell_type": "code",
   "execution_count": 21,
   "metadata": {},
   "outputs": [],
   "source": [
    "df_inp['DATE'] = pd.to_datetime(df_inp['DATE'])"
   ]
  },
  {
   "cell_type": "code",
   "execution_count": 22,
   "metadata": {},
   "outputs": [
    {
     "output_type": "execute_result",
     "data": {
      "text/plain": [
       "        DATE      SYMBOL SERIES  PREV CLOSE   OPEN    HIGH    LOW   LAST  \\\n",
       "0 2016-01-01  ASIANPAINT     EQ      883.55  882.0  885.60  876.9  879.7   \n",
       "1 2016-01-04  ASIANPAINT     EQ      878.75  876.2  892.45  871.7  880.5   \n",
       "2 2016-01-05  ASIANPAINT     EQ      880.80  881.3  905.00  881.3  901.4   \n",
       "3 2016-01-06  ASIANPAINT     EQ      900.65  904.5  911.90  884.0  885.3   \n",
       "4 2016-01-07  ASIANPAINT     EQ      886.40  883.0  891.55  869.0  871.1   \n",
       "\n",
       "    CLOSE    VWAP   VOLUME      TURNOVER  TRADES  DELIVERABLE VOLUME  \\\n",
       "0  878.75  880.60   294006  2.589019e+13    7988              149531   \n",
       "1  880.80  881.96   709103  6.254040e+13   28981              337383   \n",
       "2  900.65  898.75  1372748  1.233761e+14   52028              533231   \n",
       "3  886.40  897.11  1716479  1.539873e+14   51374             1008881   \n",
       "4  872.35  878.39   990333  8.698976e+13   26249              477288   \n",
       "\n",
       "   %DELIVERBLE  year  month  day  dayofweek_num  \n",
       "0       0.5086  2016      1    1              4  \n",
       "1       0.4758  2016      1    4              0  \n",
       "2       0.3884  2016      1    5              1  \n",
       "3       0.5878  2016      1    6              2  \n",
       "4       0.4819  2016      1    7              3  "
      ],
      "text/html": "<div>\n<style scoped>\n    .dataframe tbody tr th:only-of-type {\n        vertical-align: middle;\n    }\n\n    .dataframe tbody tr th {\n        vertical-align: top;\n    }\n\n    .dataframe thead th {\n        text-align: right;\n    }\n</style>\n<table border=\"1\" class=\"dataframe\">\n  <thead>\n    <tr style=\"text-align: right;\">\n      <th></th>\n      <th>DATE</th>\n      <th>SYMBOL</th>\n      <th>SERIES</th>\n      <th>PREV CLOSE</th>\n      <th>OPEN</th>\n      <th>HIGH</th>\n      <th>LOW</th>\n      <th>LAST</th>\n      <th>CLOSE</th>\n      <th>VWAP</th>\n      <th>VOLUME</th>\n      <th>TURNOVER</th>\n      <th>TRADES</th>\n      <th>DELIVERABLE VOLUME</th>\n      <th>%DELIVERBLE</th>\n      <th>year</th>\n      <th>month</th>\n      <th>day</th>\n      <th>dayofweek_num</th>\n    </tr>\n  </thead>\n  <tbody>\n    <tr>\n      <th>0</th>\n      <td>2016-01-01</td>\n      <td>ASIANPAINT</td>\n      <td>EQ</td>\n      <td>883.55</td>\n      <td>882.0</td>\n      <td>885.60</td>\n      <td>876.9</td>\n      <td>879.7</td>\n      <td>878.75</td>\n      <td>880.60</td>\n      <td>294006</td>\n      <td>2.589019e+13</td>\n      <td>7988</td>\n      <td>149531</td>\n      <td>0.5086</td>\n      <td>2016</td>\n      <td>1</td>\n      <td>1</td>\n      <td>4</td>\n    </tr>\n    <tr>\n      <th>1</th>\n      <td>2016-01-04</td>\n      <td>ASIANPAINT</td>\n      <td>EQ</td>\n      <td>878.75</td>\n      <td>876.2</td>\n      <td>892.45</td>\n      <td>871.7</td>\n      <td>880.5</td>\n      <td>880.80</td>\n      <td>881.96</td>\n      <td>709103</td>\n      <td>6.254040e+13</td>\n      <td>28981</td>\n      <td>337383</td>\n      <td>0.4758</td>\n      <td>2016</td>\n      <td>1</td>\n      <td>4</td>\n      <td>0</td>\n    </tr>\n    <tr>\n      <th>2</th>\n      <td>2016-01-05</td>\n      <td>ASIANPAINT</td>\n      <td>EQ</td>\n      <td>880.80</td>\n      <td>881.3</td>\n      <td>905.00</td>\n      <td>881.3</td>\n      <td>901.4</td>\n      <td>900.65</td>\n      <td>898.75</td>\n      <td>1372748</td>\n      <td>1.233761e+14</td>\n      <td>52028</td>\n      <td>533231</td>\n      <td>0.3884</td>\n      <td>2016</td>\n      <td>1</td>\n      <td>5</td>\n      <td>1</td>\n    </tr>\n    <tr>\n      <th>3</th>\n      <td>2016-01-06</td>\n      <td>ASIANPAINT</td>\n      <td>EQ</td>\n      <td>900.65</td>\n      <td>904.5</td>\n      <td>911.90</td>\n      <td>884.0</td>\n      <td>885.3</td>\n      <td>886.40</td>\n      <td>897.11</td>\n      <td>1716479</td>\n      <td>1.539873e+14</td>\n      <td>51374</td>\n      <td>1008881</td>\n      <td>0.5878</td>\n      <td>2016</td>\n      <td>1</td>\n      <td>6</td>\n      <td>2</td>\n    </tr>\n    <tr>\n      <th>4</th>\n      <td>2016-01-07</td>\n      <td>ASIANPAINT</td>\n      <td>EQ</td>\n      <td>886.40</td>\n      <td>883.0</td>\n      <td>891.55</td>\n      <td>869.0</td>\n      <td>871.1</td>\n      <td>872.35</td>\n      <td>878.39</td>\n      <td>990333</td>\n      <td>8.698976e+13</td>\n      <td>26249</td>\n      <td>477288</td>\n      <td>0.4819</td>\n      <td>2016</td>\n      <td>1</td>\n      <td>7</td>\n      <td>3</td>\n    </tr>\n  </tbody>\n</table>\n</div>"
     },
     "metadata": {},
     "execution_count": 22
    }
   ],
   "source": [
    "df_inp.head()"
   ]
  },
  {
   "cell_type": "code",
   "execution_count": 23,
   "metadata": {},
   "outputs": [
    {
     "output_type": "execute_result",
     "data": {
      "text/plain": [
       "30"
      ]
     },
     "metadata": {},
     "execution_count": 23
    }
   ],
   "source": [
    "df_inp.SYMBOL.nunique()"
   ]
  },
  {
   "cell_type": "code",
   "execution_count": 24,
   "metadata": {},
   "outputs": [
    {
     "output_type": "execute_result",
     "data": {
      "text/plain": [
       "min   2016-01-01\n",
       "max   2021-06-15\n",
       "Name: DATE, dtype: datetime64[ns]"
      ]
     },
     "metadata": {},
     "execution_count": 24
    }
   ],
   "source": [
    "df_inp.DATE.agg(['min','max'])"
   ]
  },
  {
   "cell_type": "code",
   "execution_count": 10,
   "metadata": {},
   "outputs": [],
   "source": [
    "## day based features - ordinal data\n",
    "df_inp['year']=df_inp['DATE'].dt.year \n",
    "df_inp['month']=df_inp['DATE'].dt.month \n",
    "df_inp['day']=df_inp['DATE'].dt.day\n",
    "\n",
    "df_inp['dayofweek_num']=df_inp['DATE'].dt.dayofweek  "
   ]
  },
  {
   "cell_type": "code",
   "execution_count": 13,
   "metadata": {},
   "outputs": [],
   "source": []
  },
  {
   "cell_type": "code",
   "execution_count": null,
   "metadata": {},
   "outputs": [],
   "source": [
    "## entity embedding for categoricals\n",
    "\n",
    "## "
   ]
  },
  {
   "cell_type": "code",
   "execution_count": null,
   "metadata": {},
   "outputs": [],
   "source": [
    "## data processing\n",
    "start_date = pd.to_datetime('2016-10-01')\n",
    "end_date = pd.to_datetime('2018-10-01')\n",
    "forecast_steps = 5\n",
    "valid_period = 120 # num days\n",
    " \n",
    "\n",
    "# level of forecast\n",
    "level_foreca = 'SYMBOL'\n",
    "list_symbols = df_inp[level_foreca].unique().tolist()\n",
    "\n",
    "static features = ['SYMBOL','']\n",
    "dynamic_features = "
   ]
  }
 ]
}