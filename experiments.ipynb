{
 "cells": [
  {
   "cell_type": "code",
   "execution_count": 1,
   "id": "later-stock",
   "metadata": {
    "ExecuteTime": {
     "end_time": "2021-07-06T15:27:18.445740Z",
     "start_time": "2021-07-06T15:27:17.344683Z"
    }
   },
   "outputs": [],
   "source": [
    "from template_ae import *"
   ]
  },
  {
   "cell_type": "code",
   "execution_count": 2,
   "id": "increased-philip",
   "metadata": {
    "ExecuteTime": {
     "end_time": "2021-07-06T15:27:19.841881Z",
     "start_time": "2021-07-06T15:27:18.447696Z"
    }
   },
   "outputs": [],
   "source": [
    "from sklearn.datasets import fetch_california_housing\n",
    "from sklearn.preprocessing import StandardScaler"
   ]
  },
  {
   "cell_type": "code",
   "execution_count": 3,
   "id": "typical-tender",
   "metadata": {
    "ExecuteTime": {
     "end_time": "2021-07-06T15:27:20.315927Z",
     "start_time": "2021-07-06T15:27:19.843633Z"
    }
   },
   "outputs": [],
   "source": [
    "import pandas as pd\n",
    "import numpy as np\n",
    "import torch"
   ]
  },
  {
   "cell_type": "code",
   "execution_count": 4,
   "id": "rolled-fight",
   "metadata": {
    "ExecuteTime": {
     "end_time": "2021-07-06T15:27:20.332879Z",
     "start_time": "2021-07-06T15:27:20.316878Z"
    }
   },
   "outputs": [],
   "source": [
    "dset = fetch_california_housing()"
   ]
  },
  {
   "cell_type": "code",
   "execution_count": 5,
   "id": "fresh-fields",
   "metadata": {
    "ExecuteTime": {
     "end_time": "2021-07-06T15:27:20.343808Z",
     "start_time": "2021-07-06T15:27:20.334830Z"
    }
   },
   "outputs": [],
   "source": [
    "df_x = pd.DataFrame(dset['data'],columns=dset['feature_names'])\n",
    "df_y = pd.DataFrame(dset['target'],columns=['house_price'])"
   ]
  },
  {
   "cell_type": "code",
   "execution_count": 6,
   "id": "amateur-limitation",
   "metadata": {
    "ExecuteTime": {
     "end_time": "2021-07-06T15:27:20.372736Z",
     "start_time": "2021-07-06T15:27:20.345802Z"
    }
   },
   "outputs": [],
   "source": [
    "scal = StandardScaler()\n",
    "df_x_norm = scal.fit_transform(df_x)"
   ]
  },
  {
   "cell_type": "code",
   "execution_count": 7,
   "id": "injured-mumbai",
   "metadata": {
    "ExecuteTime": {
     "end_time": "2021-07-06T15:27:21.317713Z",
     "start_time": "2021-07-06T15:27:20.376712Z"
    }
   },
   "outputs": [
    {
     "name": "stdout",
     "output_type": "stream",
     "text": [
      "Learning Rate: 0.11499999999999998\n",
      "Epoch: 0; Mean SSE: 10.4653\n",
      "Learning Rate: 0.04500000000000001\n",
      "Epoch: 1; Mean SSE: 9.6244\n",
      "Learning Rate: 0.15\n",
      "Epoch: 2; Mean SSE: 9.1272\n",
      "Learning Rate: 0.1406217782649107\n",
      "Epoch: 3; Mean SSE: 8.9359\n",
      "Learning Rate: 0.11499999999999998\n",
      "Epoch: 4; Mean SSE: 8.4500\n",
      "Learning Rate: 0.07999999999999999\n",
      "Epoch: 5; Mean SSE: 8.2015\n",
      "Learning Rate: 0.04500000000000001\n",
      "Epoch: 6; Mean SSE: 8.1131\n",
      "Learning Rate: 0.01937822173508929\n",
      "Epoch: 7; Mean SSE: 8.0861\n",
      "Learning Rate: 0.15\n",
      "Epoch: 8; Mean SSE: 8.0764\n",
      "Learning Rate: 0.14761480784023476\n",
      "Epoch: 9; Mean SSE: 8.0722\n",
      "Learning Rate: 0.1406217782649107\n",
      "Epoch: 10; Mean SSE: 8.0484\n",
      "Learning Rate: 0.1294974746830583\n",
      "Epoch: 11; Mean SSE: 8.0298\n",
      "Learning Rate: 0.11499999999999998\n",
      "Epoch: 12; Mean SSE: 8.0177\n",
      "Learning Rate: 0.09811733315717644\n",
      "Epoch: 13; Mean SSE: 8.0057\n",
      "Learning Rate: 0.07999999999999999\n",
      "Epoch: 14; Mean SSE: 7.9941\n",
      "Learning Rate: 0.06188266684282355\n",
      "Epoch: 15; Mean SSE: 7.9833\n",
      "Learning Rate: 0.04500000000000001\n",
      "Epoch: 16; Mean SSE: 7.9736\n",
      "Learning Rate: 0.030502525316941677\n",
      "Epoch: 17; Mean SSE: 7.9659\n",
      "Learning Rate: 0.01937822173508929\n",
      "Epoch: 18; Mean SSE: 7.9599\n",
      "Learning Rate: 0.012385192159765225\n",
      "Epoch: 19; Mean SSE: 7.9557\n",
      "Learning Rate: 0.15\n",
      "Epoch: 20; Mean SSE: 7.9529\n",
      "Learning Rate: 0.14940114029616672\n",
      "Epoch: 21; Mean SSE: 7.9507\n",
      "Learning Rate: 0.14761480784023476\n",
      "Epoch: 22; Mean SSE: 7.9284\n",
      "Learning Rate: 0.14467156727579006\n",
      "Epoch: 23; Mean SSE: 7.9073\n",
      "Learning Rate: 0.1406217782649107\n",
      "Epoch: 24; Mean SSE: 7.8868\n",
      "Learning Rate: 0.13553473382038644\n",
      "Epoch: 25; Mean SSE: 7.8677\n",
      "Learning Rate: 0.1294974746830583\n",
      "Epoch: 26; Mean SSE: 7.8498\n",
      "Learning Rate: 0.12261330003061043\n",
      "Epoch: 27; Mean SSE: 7.8329\n",
      "Learning Rate: 0.11499999999999998\n",
      "Epoch: 28; Mean SSE: 7.8188\n",
      "Learning Rate: 0.10678784026555628\n",
      "Epoch: 29; Mean SSE: 7.8057\n",
      "Learning Rate: 0.09811733315717644\n",
      "Epoch: 30; Mean SSE: 7.7945\n",
      "Learning Rate: 0.08913683345540362\n",
      "Epoch: 31; Mean SSE: 7.7847\n",
      "Learning Rate: 0.07999999999999999\n",
      "Epoch: 32; Mean SSE: 7.7757\n",
      "Learning Rate: 0.07086316654459639\n",
      "Epoch: 33; Mean SSE: 7.7683\n",
      "Learning Rate: 0.06188266684282355\n",
      "Epoch: 34; Mean SSE: 7.7617\n",
      "Learning Rate: 0.05321215973444373\n",
      "Epoch: 35; Mean SSE: 7.7561\n",
      "Learning Rate: 0.04500000000000001\n",
      "Epoch: 36; Mean SSE: 7.7513\n",
      "Learning Rate: 0.03738669996938955\n",
      "Epoch: 37; Mean SSE: 7.7475\n",
      "Learning Rate: 0.030502525316941677\n",
      "Epoch: 38; Mean SSE: 7.7442\n",
      "Learning Rate: 0.024465266179613546\n",
      "Epoch: 39; Mean SSE: 7.7415\n",
      "Learning Rate: 0.01937822173508929\n",
      "Epoch: 40; Mean SSE: 7.7395\n",
      "Learning Rate: 0.015328432724209928\n",
      "Epoch: 41; Mean SSE: 7.7378\n",
      "Learning Rate: 0.012385192159765225\n",
      "Epoch: 42; Mean SSE: 7.7365\n",
      "Learning Rate: 0.010598859703833273\n",
      "Epoch: 43; Mean SSE: 7.7356\n",
      "Learning Rate: 0.15\n",
      "Epoch: 44; Mean SSE: 7.7348\n",
      "Learning Rate: 0.14985012462670225\n",
      "Epoch: 45; Mean SSE: 7.7339\n",
      "Learning Rate: 0.14940114029616672\n",
      "Epoch: 46; Mean SSE: 7.7254\n",
      "Learning Rate: 0.14865496962822614\n",
      "Epoch: 47; Mean SSE: 7.7477\n",
      "Learning Rate: 0.14761480784023476\n",
      "Epoch: 48; Mean SSE: 7.8860\n",
      "Learning Rate: 0.1462851090646574\n",
      "Epoch: 49; Mean SSE: 7.7996\n",
      "Learning Rate: 0.14467156727579006\n",
      "Epoch: 50; Mean SSE: 7.7094\n",
      "Learning Rate: 0.14278109190728816\n",
      "Epoch: 51; Mean SSE: 7.7658\n",
      "Learning Rate: 0.1406217782649107\n",
      "Epoch: 52; Mean SSE: 7.7276\n",
      "Learning Rate: 0.13820287286117816\n",
      "Epoch: 53; Mean SSE: 7.7059\n",
      "Learning Rate: 0.13553473382038644\n",
      "Epoch: 54; Mean SSE: 7.7171\n",
      "Learning Rate: 0.1326287865235284\n",
      "Epoch: 55; Mean SSE: 7.7194\n",
      "Learning Rate: 0.1294974746830583\n",
      "Epoch: 56; Mean SSE: 7.7088\n",
      "Learning Rate: 0.1261542070570048\n",
      "Epoch: 57; Mean SSE: 7.6963\n",
      "Learning Rate: 0.12261330003061043\n",
      "Epoch: 58; Mean SSE: 7.6929\n",
      "Learning Rate: 0.11888991631137215\n",
      "Epoch: 59; Mean SSE: 7.6939\n",
      "Learning Rate: 0.11499999999999998\n",
      "Epoch: 60; Mean SSE: 7.6892\n",
      "Learning Rate: 0.11096020831533007\n",
      "Epoch: 61; Mean SSE: 7.6800\n",
      "Learning Rate: 0.10678784026555628\n",
      "Epoch: 62; Mean SSE: 7.6735\n",
      "Learning Rate: 0.1025007625712213\n",
      "Epoch: 63; Mean SSE: 7.6704\n",
      "Learning Rate: 0.09811733315717644\n",
      "Epoch: 64; Mean SSE: 7.6668\n",
      "Learning Rate: 0.09365632254112898\n",
      "Epoch: 65; Mean SSE: 7.6610\n",
      "Learning Rate: 0.08913683345540362\n",
      "Epoch: 66; Mean SSE: 7.6554\n",
      "Learning Rate: 0.08457821904611003\n",
      "Epoch: 67; Mean SSE: 7.6517\n",
      "Learning Rate: 0.07999999999999999\n",
      "Epoch: 68; Mean SSE: 7.6492\n",
      "Learning Rate: 0.07542178095388997\n",
      "Epoch: 69; Mean SSE: 7.6461\n",
      "Learning Rate: 0.07086316654459639\n",
      "Epoch: 70; Mean SSE: 7.6406\n",
      "Learning Rate: 0.06634367745887101\n",
      "Epoch: 71; Mean SSE: 7.6259\n",
      "Learning Rate: 0.06188266684282355\n",
      "Epoch: 72; Mean SSE: 7.5652\n",
      "Learning Rate: 0.05749923742877869\n",
      "Epoch: 73; Mean SSE: 7.6037\n",
      "Learning Rate: 0.05321215973444373\n",
      "Epoch: 74; Mean SSE: 7.4597\n",
      "Learning Rate: 0.049039791684669924\n",
      "Epoch: 75; Mean SSE: 7.4429\n",
      "Learning Rate: 0.04500000000000001\n",
      "Epoch: 76; Mean SSE: 7.3538\n",
      "Learning Rate: 0.041110083688627834\n",
      "Epoch: 77; Mean SSE: 7.2895\n",
      "Learning Rate: 0.03738669996938955\n",
      "Epoch: 78; Mean SSE: 7.2153\n",
      "Learning Rate: 0.03384579294299518\n",
      "Epoch: 79; Mean SSE: 7.3109\n",
      "Learning Rate: 0.030502525316941677\n",
      "Epoch: 80; Mean SSE: 7.2156\n",
      "Learning Rate: 0.02737121347647159\n",
      "Epoch: 81; Mean SSE: 7.1181\n",
      "Learning Rate: 0.024465266179613546\n",
      "Epoch: 82; Mean SSE: 7.1482\n",
      "Learning Rate: 0.02179712713882185\n",
      "Epoch: 83; Mean SSE: 7.0982\n",
      "Learning Rate: 0.01937822173508929\n",
      "Epoch: 84; Mean SSE: 7.0884\n",
      "Learning Rate: 0.01721890809271183\n",
      "Epoch: 85; Mean SSE: 7.0854\n",
      "Learning Rate: 0.015328432724209928\n",
      "Epoch: 86; Mean SSE: 7.0660\n",
      "Learning Rate: 0.01371489093534261\n",
      "Epoch: 87; Mean SSE: 7.0470\n",
      "Learning Rate: 0.012385192159765225\n",
      "Epoch: 88; Mean SSE: 7.0425\n",
      "Learning Rate: 0.01134503037177387\n",
      "Epoch: 89; Mean SSE: 7.0419\n",
      "Learning Rate: 0.010598859703833273\n",
      "Epoch: 90; Mean SSE: 7.0332\n",
      "Learning Rate: 0.010149875373297756\n",
      "Epoch: 91; Mean SSE: 7.0256\n",
      "Learning Rate: 0.15\n",
      "Epoch: 92; Mean SSE: 7.0225\n",
      "Learning Rate: 0.1499625211233456\n",
      "Epoch: 93; Mean SSE: 7.0200\n",
      "Learning Rate: 0.14985012462670225\n",
      "Epoch: 94; Mean SSE: 7.0010\n",
      "Learning Rate: 0.1496629308670538\n",
      "Epoch: 95; Mean SSE: 7.0198\n",
      "Learning Rate: 0.14940114029616672\n",
      "Epoch: 96; Mean SSE: 7.1574\n",
      "Learning Rate: 0.14906503324594153\n",
      "Epoch: 97; Mean SSE: 7.0866\n",
      "Learning Rate: 0.14865496962822614\n",
      "Epoch: 98; Mean SSE: 7.0603\n",
      "Learning Rate: 0.14817138854941334\n",
      "Epoch: 99; Mean SSE: 7.1436\n"
     ]
    }
   ],
   "source": [
    "latent_dims = 2\n",
    "input_dims = 8\n",
    "hidden_dims = 4\n",
    "batch_size = 20000\n",
    "\n",
    "# Tabular data loading and batches here\n",
    "data = FastTensorDataLoader(torch.from_numpy(df_x_norm.astype(np.float32)),\n",
    "                            torch.from_numpy(df_y.values.astype(np.float32)),\n",
    "                            batch_size=batch_size, shuffle=True)\n",
    "\n",
    "autoencoder = Autoencoder(input_dims, hidden_dims, latent_dims).to(device)\n",
    "\n",
    "autoencoder = train(autoencoder, data, epochs=100, learning_rate=0.15,batch_size=batch_size)"
   ]
  },
  {
   "cell_type": "code",
   "execution_count": 8,
   "id": "placed-qualification",
   "metadata": {
    "ExecuteTime": {
     "end_time": "2021-07-06T15:27:21.327686Z",
     "start_time": "2021-07-06T15:27:21.320706Z"
    }
   },
   "outputs": [],
   "source": [
    "emb_x = pd.DataFrame(autoencoder.encoder(torch.from_numpy(df_x_norm.astype(np.float32))).to('cpu').detach().numpy(), columns=['dim1','dim2'])"
   ]
  },
  {
   "cell_type": "code",
   "execution_count": 9,
   "id": "twelve-devon",
   "metadata": {
    "ExecuteTime": {
     "end_time": "2021-07-06T15:27:21.347633Z",
     "start_time": "2021-07-06T15:27:21.329681Z"
    }
   },
   "outputs": [],
   "source": [
    "df_out = pd.concat([emb_x,df_y], axis=1)"
   ]
  },
  {
   "cell_type": "code",
   "execution_count": 10,
   "id": "handy-tongue",
   "metadata": {
    "ExecuteTime": {
     "end_time": "2021-07-06T15:27:22.088810Z",
     "start_time": "2021-07-06T15:27:21.348631Z"
    }
   },
   "outputs": [
    {
     "data": {
      "text/plain": [
       "<AxesSubplot:xlabel='dim1', ylabel='dim2'>"
      ]
     },
     "execution_count": 10,
     "metadata": {},
     "output_type": "execute_result"
    },
    {
     "data": {
      "image/png": "[encoded data removed]",
      "text/plain": [
       "<Figure size 1200x800 with 1 Axes>"
      ]
     },
     "metadata": {
      "needs_background": "light"
     },
     "output_type": "display_data"
    }
   ],
   "source": [
    "df_out.plot(kind='scatter',x='dim1',y='dim2',color=df_out['house_price'].values)"
   ]
  },
  {
   "cell_type": "code",
   "execution_count": null,
   "id": "valued-panic",
   "metadata": {},
   "outputs": [],
   "source": []
  }
 ],
 "metadata": {
  "hide_input": false,
  "kernelspec": {
   "display_name": "Python 3.7.5 64-bit ('base': conda)",
   "language": "python",
   "name": "python37564bitbasecondac966a1a74245444284aa254453f554c1"
  },
  "language_info": {
   "codemirror_mode": {
    "name": "ipython",
    "version": 3
   },
   "file_extension": ".py",
   "mimetype": "text/x-python",
   "name": "python",
   "nbconvert_exporter": "python",
   "pygments_lexer": "ipython3",
   "version": "3.7.9"
  },
  "toc": {
   "base_numbering": 1,
   "nav_menu": {},
   "number_sections": true,
   "sideBar": true,
   "skip_h1_title": false,
   "title_cell": "Table of Contents",
   "title_sidebar": "Contents",
   "toc_cell": false,
   "toc_position": {},
   "toc_section_display": true,
   "toc_window_display": false
  },
  "varInspector": {
   "cols": {
    "lenName": 16,
    "lenType": 16,
    "lenVar": 40
   },
   "kernels_config": {
    "python": {
     "delete_cmd_postfix": "",
     "delete_cmd_prefix": "del ",
     "library": "var_list.py",
     "varRefreshCmd": "print(var_dic_list())"
    },
    "r": {
     "delete_cmd_postfix": ") ",
     "delete_cmd_prefix": "rm(",
     "library": "var_list.r",
     "varRefreshCmd": "cat(var_dic_list()) "
    }
   },
   "types_to_exclude": [
    "module",
    "function",
    "builtin_function_or_method",
    "instance",
    "_Feature"
   ],
   "window_display": false
  }
 },
 "nbformat": 4,
 "nbformat_minor": 5
}
